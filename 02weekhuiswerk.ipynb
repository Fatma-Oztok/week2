{
 "cells": [
  {
   "cell_type": "code",
   "execution_count": null,
   "id": "8a98d008",
   "metadata": {},
   "outputs": [],
   "source": [
    "#Exercise 1)ok\n",
    "#Create a program that asks the user to enter their name and their age. \n",
    "#Print out a message addressed to them that tells them the year that they will turn 100 years old."
   ]
  },
  {
   "cell_type": "code",
   "execution_count": 8,
   "id": "8768d2b0",
   "metadata": {},
   "outputs": [
    {
     "name": "stdout",
     "output_type": "stream",
     "text": [
      "Please write your name:Kübra\n",
      "Please write your age:13\n",
      "In 87 years you will be 100 jears old.\n"
     ]
    }
   ],
   "source": [
    "name = input('Please write your name:')\n",
    "age = input('Please write your age:')\n",
    "x = 100 - int(age)\n",
    "print('In', x, 'years you will be 100 jears old.')"
   ]
  },
  {
   "cell_type": "code",
   "execution_count": null,
   "id": "b7b02901",
   "metadata": {},
   "outputs": [],
   "source": [
    "#Exercise 2)ok\n",
    "#Ask the user for a number. Depending on whether the number is even or odd,print out an appropriate message to the user.\n",
    "#Hint: how does an even / odd number react differently when divided by 2?\n",
    "#Extras: 1) If the number is a multiple of 4, print out a different message. \n",
    "#Ask the user for two numbers: one number to check (call it num) and one number to divide by (check).\n",
    "#If check divides evenly into num, tell that to the user. If not, print a different appropriate message."
   ]
  },
  {
   "cell_type": "code",
   "execution_count": 16,
   "id": "56eb1f84",
   "metadata": {},
   "outputs": [
    {
     "name": "stdout",
     "output_type": "stream",
     "text": [
      "Please write a number:45\n",
      "The 45 is odd.\n",
      "Please write a number:1663\n",
      "The 1663 is not a multiple of 4\n",
      "Please write a number:23\n",
      "Please write a number:2\n",
      "23 is not divisible by 2\n"
     ]
    }
   ],
   "source": [
    "#even or odd\n",
    "number = (input('Please write a number:'))\n",
    "if (int(number) % 2 == 0):\n",
    "    print('The', number, 'is even.')\n",
    "else:\n",
    "    print('The', number, 'is odd.')\n",
    "\n",
    "#number is a multiple of 4\n",
    "num = (input('Please write a number:'))\n",
    "if (int(num) % 4 == 0):\n",
    "    print('The', num, 'is a multiple of 4' )\n",
    "else:\n",
    "    print('The', num, 'is not a multiple of 4')\n",
    "    \n",
    "#Ask the user for two numbers\n",
    "num = (input(\"Please write a number:\"))\n",
    "check = (input(\"Please write a number:\"))\n",
    "if (int(num) % int(check) == 0):\n",
    "    print(num, \"is divisible by\", check)\n",
    "else:\n",
    "    print(num, 'is not divisible by', check)\n"
   ]
  },
  {
   "cell_type": "code",
   "execution_count": null,
   "id": "f149025b",
   "metadata": {},
   "outputs": [],
   "source": [
    "#Exercise 3: List Less Than Ten)ok\n",
    "#Take a list, say for example this one: a = [1, 1, 2, 3, 10, 8, 13, 3, 34, 7, 89]\n",
    "#and write a program that prints out all the elements of the list that are less than 5.\n",
    "#Extras:\n",
    "#Instead of printing the elements one by one, make a new list that has all \n",
    "#the elements less than 5 from this list in it and print out this new list.\n",
    "#Write this in one line of Python."
   ]
  },
  {
   "cell_type": "code",
   "execution_count": 20,
   "id": "a6088adb",
   "metadata": {},
   "outputs": [
    {
     "name": "stdout",
     "output_type": "stream",
     "text": [
      "1\n",
      "1\n",
      "2\n",
      "3\n",
      "3\n",
      "[1, 1, 2, 3, 3]\n"
     ]
    }
   ],
   "source": [
    "a = [1, 1, 2, 3, 10, 8, 13, 3, 34, 7, 89]\n",
    "new_list = []\n",
    "for x in a:\n",
    "    if x < 5:\n",
    "        print(x)\n",
    "        new_list += [x]\n",
    "print(new_list)\n",
    "\n"
   ]
  },
  {
   "cell_type": "code",
   "execution_count": 11,
   "id": "bd3f4011",
   "metadata": {},
   "outputs": [
    {
     "name": "stdout",
     "output_type": "stream",
     "text": [
      "Please choose a number from a list a:13\n",
      "[1, 1, 2, 3, 10, 8, 3, 7]\n"
     ]
    }
   ],
   "source": [
    "#Exercise 3:)ok\n",
    "#Ask the user for a number and return a list that contains only elements \n",
    "#from the original list a that are smaller than that number given by the user.\n",
    "a = [1, 1, 2, 3, 10, 8, 13, 3, 34, 7, 89]\n",
    "keuze = []\n",
    "b = int(input('Please choose a number from a list a:'))\n",
    "for c in a:\n",
    "    if c < b:\n",
    "        keuze += [c]\n",
    "print(keuze)"
   ]
  },
  {
   "cell_type": "code",
   "execution_count": 25,
   "id": "f4d1f352",
   "metadata": {},
   "outputs": [
    {
     "name": "stdout",
     "output_type": "stream",
     "text": [
      "Pleaser write a number:12\n",
      "[1]\n",
      "[1, 2]\n",
      "[1, 2, 3]\n",
      "[1, 2, 3, 4]\n",
      "[1, 2, 3, 4, 6]\n",
      "[1, 2, 3, 4, 6, 12]\n"
     ]
    }
   ],
   "source": [
    "#Exercise 4: Divisors)ok\n",
    "#Create a program that asks the user for a number and then prints out a list of all the divisors of that number. \n",
    "b = []\n",
    "a = int(input('Pleaser write a number:'))\n",
    "for x in range(1, a+1):\n",
    "    if a % x == 0:\n",
    "        b += [x]\n",
    "        print(b)"
   ]
  },
  {
   "cell_type": "code",
   "execution_count": 23,
   "id": "905e0d84",
   "metadata": {},
   "outputs": [
    {
     "name": "stdout",
     "output_type": "stream",
     "text": [
      "[1]\n",
      "[1, 1]\n",
      "[1, 1, 2]\n",
      "[1, 1, 2, 3]\n",
      "[1, 1, 2, 3, 5]\n",
      "[1, 1, 2, 3, 5, 8]\n",
      "[1, 1, 2, 3, 5, 8, 13]\n"
     ]
    }
   ],
   "source": [
    "#Exercise 5: List Overlap)ok\n",
    "#Take two lists, say for example these two: a = [1, 1, 2, 3, 5, 8, 13, 21, 34, 55, 89] \n",
    "#b = [1, 2, 3, 4, 5, 6, 7, 8, 9, 10, 11, 12, 13] \n",
    "#and write a program that returns a list that contains only the elements that are common between the lists (without duplicates) \n",
    "#Make sure your program works on two lists of different sizes.\n",
    "#Extras: Randomly generate two lists to test this. \n",
    "#Write this in one line of Python (don’t worry if you can’t figure this out at this point - we’ll get to it soon)\n",
    "a = [1, 1, 2, 3, 5, 8, 13, 21, 34, 55, 89] \n",
    "b = [1, 2, 3, 4, 5, 6, 7, 8, 9, 10, 11, 12, 13] \n",
    "duplicates = []\n",
    "for k in a:\n",
    "    if k in b:\n",
    "        duplicates += [k]\n",
    "        print(duplicates)"
   ]
  },
  {
   "cell_type": "code",
   "execution_count": 28,
   "id": "6154948f",
   "metadata": {},
   "outputs": [
    {
     "name": "stdout",
     "output_type": "stream",
     "text": [
      "Please write a number:11\n",
      "0\n",
      "1\n",
      "1\n",
      "2\n",
      "3\n",
      "5\n",
      "8\n",
      "13\n",
      "21\n",
      "34\n",
      "55\n"
     ]
    }
   ],
   "source": [
    "#Exercise 6: Fibonacci)ok\n",
    "#Write a program that asks the user how many Fibonnaci numbers to generate and then generates them. \n",
    "#Take this opportunity to think about how you can use functions.\n",
    "\n",
    "#Make sure to ask the user to enter the number of numbers in the sequence to generate.\n",
    "#(Hint: The Fibonnaci seqence is a sequence of numbers where the next number in the sequence is the sum of the previous \n",
    "#two numbers in the sequence. The sequence looks like this: 1, 1, 2, 3, 5, 8, 13, …)\n",
    "b = int(input('Please write a number:'))\n",
    "n1, n2 = 0, 1\n",
    "count = 0\n",
    "while count < b:\n",
    "    print(n1)\n",
    "    c = n1 + n2\n",
    "    n1 = n2\n",
    "    n2 = c\n",
    "    count += 1"
   ]
  },
  {
   "cell_type": "code",
   "execution_count": null,
   "id": "af9c4ff8",
   "metadata": {
    "scrolled": true
   },
   "outputs": [
    {
     "name": "stdout",
     "output_type": "stream",
     "text": [
      "Write a number:4\n",
      "Low\n",
      "Write a number:5\n",
      "Low\n",
      "Write a number:6\n",
      "Yes! = 6\n",
      "You guessed the number 3 times.\n"
     ]
    }
   ],
   "source": [
    "#Exercise 7: Guessing Game One)ok\n",
    "#Generate a random number between 1 and 9 (including 1 and 9). \n",
    "#Ask the user to guess the number, then tell them whether they guessed too low, too high, or exactly right. \n",
    "#(Hint: remember to use the user input lessons from the very first exercise)\n",
    "#Extras: Keep the game going until the user types “exit”\n",
    "#Keep track of how many guesses the user has taken, and when the game ends, print this out.\n",
    "import random\n",
    "a = random.randint(1, 9)\n",
    "how_many_guesses = 0\n",
    "\n",
    "while True:\n",
    "    k = int(input('Write a number:'))\n",
    "    how_many_guesses += 1\n",
    "    if (k == exit):\n",
    "        break\n",
    "    elif k > a:\n",
    "        print('High')\n",
    "        continue\n",
    "    elif k < a:\n",
    "        print('Low')\n",
    "        continue\n",
    "    else:\n",
    "        print('Yes! = {0}'.format(a) )\n",
    "        print('You guessed the number {0} times.'.format(how_many_guesses))"
   ]
  },
  {
   "cell_type": "code",
   "execution_count": 8,
   "id": "091a079b",
   "metadata": {},
   "outputs": [],
   "source": [
    "#Exercise 8: \n",
    "#Write a Python function to find the Max of three numbers\n",
    "#Create a function to find the maximum value based on a list of 3 numbers\n",
    "a = [23, 45, 12]\n"
   ]
  },
  {
   "cell_type": "code",
   "execution_count": 18,
   "id": "558c5c9f",
   "metadata": {},
   "outputs": [],
   "source": [
    "#Exercise 9: \n",
    "#Write a Python program to find missing numbers from a list\n",
    "#Create a function that inputs a list, e.g. [1,2,3,4,6,8] and where your program will print the missing values from that \n",
    "#sequence, in this case [5,7]"
   ]
  },
  {
   "cell_type": "code",
   "execution_count": null,
   "id": "f2dc0032",
   "metadata": {},
   "outputs": [],
   "source": [
    "#Exercise 10: \n",
    "#String Length\n",
    "#Create a Function that gives the length of a given string"
   ]
  }
 ],
 "metadata": {
  "kernelspec": {
   "display_name": "Python 3",
   "language": "python",
   "name": "python3"
  },
  "language_info": {
   "codemirror_mode": {
    "name": "ipython",
    "version": 3
   },
   "file_extension": ".py",
   "mimetype": "text/x-python",
   "name": "python",
   "nbconvert_exporter": "python",
   "pygments_lexer": "ipython3",
   "version": "3.8.8"
  }
 },
 "nbformat": 4,
 "nbformat_minor": 5
}
